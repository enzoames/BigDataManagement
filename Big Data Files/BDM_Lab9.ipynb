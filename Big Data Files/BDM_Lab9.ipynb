{
 "cells": [
  {
   "cell_type": "code",
   "execution_count": 6,
   "metadata": {
    "collapsed": false
   },
   "outputs": [
    {
     "data": {
      "text/plain": [
       "<pyspark.context.SparkContext at 0x10c638d90>"
      ]
     },
     "execution_count": 6,
     "metadata": {},
     "output_type": "execute_result"
    }
   ],
   "source": [
    "sc"
   ]
  },
  {
   "cell_type": "code",
   "execution_count": 3,
   "metadata": {
    "collapsed": false
   },
   "outputs": [],
   "source": [
    "df = spark.read.load('citibike.csv', format='csv', header=True, inferSchema=False)"
   ]
  },
  {
   "cell_type": "code",
   "execution_count": 4,
   "metadata": {
    "collapsed": false
   },
   "outputs": [
    {
     "data": {
      "text/plain": [
       "[('cartodb_id', 'string'),\n",
       " ('the_geom', 'string'),\n",
       " ('tripduration', 'string'),\n",
       " ('starttime', 'string'),\n",
       " ('stoptime', 'string')]"
      ]
     },
     "execution_count": 4,
     "metadata": {},
     "output_type": "execute_result"
    }
   ],
   "source": [
    "df.dtypes[:5]"
   ]
  },
  {
   "cell_type": "code",
   "execution_count": 5,
   "metadata": {
    "collapsed": true
   },
   "outputs": [],
   "source": [
    "from pyspark.sql import Row\n",
    "import csv\n",
    "\n",
    "def parseCSV(idx, part):\n",
    "    if idx==0:\n",
    "        part.next()\n",
    "    for p in csv.reader(part):\n",
    "        yield Row(tripduration=int(p[2]),\n",
    "                 starttime=p[3],\n",
    "                  start_station_time=p[6])\n",
    "        \n",
    "rows = sc.textFile('citibike.csv').mapPartitionsWithIndex(parseCSV)\n",
    "df = sqlContext.createDataFrame(rows)"
   ]
  },
  {
   "cell_type": "code",
   "execution_count": 6,
   "metadata": {
    "collapsed": false
   },
   "outputs": [
    {
     "data": {
      "text/plain": [
       "[('start_station_time', 'string'),\n",
       " ('starttime', 'string'),\n",
       " ('tripduration', 'bigint')]"
      ]
     },
     "execution_count": 6,
     "metadata": {},
     "output_type": "execute_result"
    }
   ],
   "source": [
    "df.dtypes"
   ]
  },
  {
   "cell_type": "code",
   "execution_count": 16,
   "metadata": {
    "collapsed": false
   },
   "outputs": [
    {
     "data": {
      "text/plain": [
       "[('tripduration', 'int'),\n",
       " ('starttime', 'string'),\n",
       " ('start_station_name', 'string')]"
      ]
     },
     "execution_count": 16,
     "metadata": {},
     "output_type": "execute_result"
    }
   ],
   "source": [
    "from pyspark.sql import Row\n",
    "from pyspark.sql.types import StructType, StructField, IntegerType, StringType\n",
    "import csv\n",
    "\n",
    "def parseCSV(idx, part):\n",
    "    if idx==0:\n",
    "        part.next()\n",
    "    for p in csv.reader(part):\n",
    "        yield (int(p[2]), p[3], p[6])\n",
    "        \n",
    "rows = sc.textFile('citibike.csv').mapPartitionsWithIndex(parseCSV)\n",
    "schema = StructType([StructField('tripduration', IntegerType()),\n",
    "                    StructField('starttime', StringType()),\n",
    "                    StructField('start_station_name', StringType())])\n",
    "\n",
    "df = sqlContext.createDataFrame(rows, schema)\n",
    "df.dtypes\n"
   ]
  },
  {
   "cell_type": "code",
   "execution_count": 19,
   "metadata": {
    "collapsed": false
   },
   "outputs": [
    {
     "name": "stdout",
     "output_type": "stream",
     "text": [
      "+----+\n",
      "|   c|\n",
      "+----+\n",
      "|2537|\n",
      "+----+\n",
      "\n"
     ]
    }
   ],
   "source": [
    "import pyspark.sql.functions as sf\n",
    "\n",
    "df.agg(sf.approx_count_distinct(df.tripduration).alias('c')).show()"
   ]
  },
  {
   "cell_type": "code",
   "execution_count": 20,
   "metadata": {
    "collapsed": false
   },
   "outputs": [
    {
     "name": "stdout",
     "output_type": "stream",
     "text": [
      "+---+\n",
      "|  c|\n",
      "+---+\n",
      "|169|\n",
      "+---+\n",
      "\n"
     ]
    }
   ],
   "source": [
    "df.agg(sf.approx_count_distinct((df.tripduration/60).cast('int')).alias('c')).show()"
   ]
  },
  {
   "cell_type": "code",
   "execution_count": 13,
   "metadata": {
    "collapsed": true
   },
   "outputs": [],
   "source": [
    "df.registerTempTable('citibike')"
   ]
  },
  {
   "cell_type": "code",
   "execution_count": 14,
   "metadata": {
    "collapsed": false
   },
   "outputs": [
    {
     "data": {
      "text/plain": [
       "[Row(start_station_time=u'W 20 St & 8 Ave', starttime=u'2015-02-06 11:38:00+00', tripduration=60),\n",
       " Row(start_station_time=u'Catherine St & Monroe St', starttime=u'2015-02-05 09:32:00+00', tripduration=60),\n",
       " Row(start_station_time=u'E 10 St & Avenue A', starttime=u'2015-02-06 20:40:00+00', tripduration=60),\n",
       " Row(start_station_time=u'E 5 St & Avenue C', starttime=u'2015-02-07 21:40:00+00', tripduration=60),\n",
       " Row(start_station_time=u'W 31 St & 7 Ave', starttime=u'2015-02-02 21:39:00+00', tripduration=60)]"
      ]
     },
     "execution_count": 14,
     "metadata": {},
     "output_type": "execute_result"
    }
   ],
   "source": [
    "sqlContext.sql('select * from citibike order by tripduration limit 5').collect()"
   ]
  },
  {
   "cell_type": "code",
   "execution_count": 15,
   "metadata": {
    "collapsed": false
   },
   "outputs": [
    {
     "data": {
      "text/plain": [
       "[Row(percentile(tripduration, CAST(0.5 AS DOUBLE))=529.0)]"
      ]
     },
     "execution_count": 15,
     "metadata": {},
     "output_type": "execute_result"
    }
   ],
   "source": [
    "sqlContext.sql('select percentile (tripduration, 0.5) from citibike').collect()"
   ]
  },
  {
   "cell_type": "code",
   "execution_count": null,
   "metadata": {
    "collapsed": true
   },
   "outputs": [],
   "source": []
  },
  {
   "cell_type": "code",
   "execution_count": null,
   "metadata": {
    "collapsed": true
   },
   "outputs": [],
   "source": []
  },
  {
   "cell_type": "code",
   "execution_count": 4,
   "metadata": {
    "collapsed": true
   },
   "outputs": [],
   "source": [
    "SAT_FN = 'SAT_Results.csv'\n",
    "HSD_FN = 'DOE_High_School_Directory_2014-2015.csv'"
   ]
  },
  {
   "cell_type": "code",
   "execution_count": 8,
   "metadata": {
    "collapsed": false
   },
   "outputs": [
    {
     "data": {
      "text/plain": [
       "176"
      ]
     },
     "execution_count": 8,
     "metadata": {},
     "output_type": "execute_result"
    }
   ],
   "source": [
    "dfSchools = spark.read.load(HSD_FN, format='csv', header=True, inferSchema=True)\\\n",
    "                .na.drop(subset=['boro']) # Skipping multiple line recors\n",
    "    \n",
    "dfSchools = dfSchools.filter(dfSchools['total_students']>500)\n",
    "dfSchools = dfSchools.select('dbn', 'boro')\n",
    "dfSchools.count()"
   ]
  },
  {
   "cell_type": "code",
   "execution_count": 10,
   "metadata": {
    "collapsed": false
   },
   "outputs": [
    {
     "data": {
      "text/plain": [
       "DataFrame[SAT Math Avg. Score: int]"
      ]
     },
     "execution_count": 10,
     "metadata": {},
     "output_type": "execute_result"
    }
   ],
   "source": [
    "dfScores = sqlContext.read.load(SAT_FN, format='csv', header=True, inferSchema=True)#header is true bc file has header\n",
    "dfScores.select(dfScores['`SAT Math Avg. Score`'].cast('int')) # ` is for quoting the name"
   ]
  },
  {
   "cell_type": "code",
   "execution_count": 18,
   "metadata": {
    "collapsed": false
   },
   "outputs": [
    {
     "name": "stdout",
     "output_type": "stream",
     "text": [
      "+------+----------+-------+\n",
      "|   DBN|sum_scores|ntakers|\n",
      "+------+----------+-------+\n",
      "|02M047|      6400|     16|\n",
      "|21K410|    207575|    475|\n",
      "|30Q301|     43120|     98|\n",
      "|17K382|     22066|     59|\n",
      "|18K637|     13335|     35|\n",
      "|32K403|     18300|     50|\n",
      "|09X365|     18306|     54|\n",
      "|11X270|     22064|     56|\n",
      "|05M367|     12078|     33|\n",
      "|14K404|     24276|     68|\n",
      "|30Q575|     66420|    135|\n",
      "|13K336|      3366|      9|\n",
      "|04M635|     17712|     48|\n",
      "|24Q264|     40406|     89|\n",
      "|17K408|     19494|     57|\n",
      "|19K618|     22260|     60|\n",
      "|27Q309|     13644|     36|\n",
      "|32K552|     24388|     67|\n",
      "|13K499|     26208|     72|\n",
      "|07X600|     30400|     76|\n",
      "+------+----------+-------+\n",
      "only showing top 20 rows\n",
      "\n"
     ]
    }
   ],
   "source": [
    "dfMScores = dfScores.select('DBN', dfScores['`SAT Math Avg. Score`'].cast('int').alias('score'), \n",
    "                            dfScores['Num of SAT Test Takers'].cast('int').alias('ntakers'),).na.drop()\n",
    "\n",
    "# Some of the rows doesnt have an integer it has an s then it will drop that has null values \n",
    "# that is unable to cast to int\n",
    "\n",
    "#dfMScores.show()\n",
    "# +------+------+-------+\n",
    "# |   DBN|scores|ntakers|\n",
    "# +------+------+-------+\n",
    "# |02M047|   400|    400|\n",
    "# |21K410|   437|    437|\n",
    "# |30Q301|   440|    440|\n",
    "# |17K382|   374|    374|\n",
    "# |18K637|   381|    381|\n",
    "# |32K403|   366|    366|\n",
    "# |09X365|   339|    339|\n",
    "# |11X270|   394|    394|\n",
    "# |05M367|   366|    366|\n",
    "# |14K404|   357|    357|\n",
    "# |30Q575|   492|    492|\n",
    "# |13K336|   374|    374|\n",
    "# |04M635|   369|    369|\n",
    "# |24Q264|   454|    454|\n",
    "# |17K408|   342|    342|\n",
    "# |19K618|   371|    371|\n",
    "# |27Q309|   379|    379|\n",
    "# |32K552|   364|    364|\n",
    "# |13K499|   364|    364|\n",
    "# |07X600|   400|    400|\n",
    "# +------+------+-------+\n",
    "#only showing top 20 rows\n",
    "\n",
    "dfMScores = dfMScores.select('DBN', (dfMScores.score*dfMScores.ntakers).alias('sum_scores'), 'ntakers')\n",
    "dfMScores.show()"
   ]
  },
  {
   "cell_type": "code",
   "execution_count": 20,
   "metadata": {
    "collapsed": false
   },
   "outputs": [
    {
     "name": "stdout",
     "output_type": "stream",
     "text": [
      "+-------------+---------------+------------+\n",
      "|         boro|sum(sum_scores)|sum(ntakers)|\n",
      "+-------------+---------------+------------+\n",
      "|       Queens|        5190534|       10942|\n",
      "|     Brooklyn|        4544126|        9322|\n",
      "|Staten Island|        1406967|        2944|\n",
      "|    Manhattan|        3206992|        6228|\n",
      "|        Bronx|        1619364|        3444|\n",
      "+-------------+---------------+------------+\n",
      "\n"
     ]
    }
   ],
   "source": [
    "\n",
    "\n",
    "\n",
    "\n",
    "df = dfSchools.join(dfMScores, dfSchools.dbn==dfScores.DBN, how='inner')\n",
    "#df.show()\n",
    "# +------+---------+------+----------+-------+\n",
    "# |   dbn|     boro|   DBN|sum_scores|ntakers|\n",
    "# +------+---------+------+----------+-------+\n",
    "# |01M450|Manhattan|01M450|     28140|     70|\n",
    "# |01M539|Manhattan|01M539|     91266|    159|\n",
    "# |01M696|Manhattan|01M696|     78520|    130|\n",
    "# |02M374|Manhattan|02M374|     23460|     60|\n",
    "# |02M400|Manhattan|02M400|    129659|    263|\n",
    "# |02M408|Manhattan|02M408|     46060|     94|\n",
    "# |02M412|Manhattan|02M412|     67260|    114|\n",
    "# |02M413|Manhattan|02M413|     35178|     66|\n",
    "# |02M416|Manhattan|02M416|     75438|    127|\n",
    "# |02M418|Manhattan|02M418|     79632|    144|\n",
    "# |02M420|Manhattan|02M420|    150864|    336|\n",
    "# |02M425|Manhattan|02M425|     35784|     84|\n",
    "# |02M475|Manhattan|02M475|    611520|    832|\n",
    "# |02M489|Manhattan|02M489|     81663|    167|\n",
    "# |02M519|Manhattan|02M519|     38232|     81|\n",
    "# |02M520|Manhattan|02M520|    116160|    264|\n",
    "# |02M529|Manhattan|02M529|     55675|    131|\n",
    "# |02M542|Manhattan|02M542|     24948|     66|\n",
    "# |02M580|Manhattan|02M580|     32256|     84|\n",
    "# |02M600|Manhattan|02M600|    141705|    335|\n",
    "# +------+---------+------+----------+-------+\n",
    "# only showing top 20 rows\n",
    "\n",
    "df = df.groupBy('boro').sum('sum_scores','ntakers') \n",
    "df.show()"
   ]
  },
  {
   "cell_type": "code",
   "execution_count": 21,
   "metadata": {
    "collapsed": false
   },
   "outputs": [
    {
     "name": "stdout",
     "output_type": "stream",
     "text": [
      "+-------------+---------------+------------+------------------+\n",
      "|         boro|sum(sum_scores)|sum(ntakers)|               avg|\n",
      "+-------------+---------------+------------+------------------+\n",
      "|       Queens|        5190534|       10942| 474.3679400475233|\n",
      "|     Brooklyn|        4544126|        9322|487.46256168204246|\n",
      "|Staten Island|        1406967|        2944| 477.9099864130435|\n",
      "|    Manhattan|        3206992|        6228| 514.9312780989081|\n",
      "|        Bronx|        1619364|        3444|  470.198606271777|\n",
      "+-------------+---------------+------------+------------------+\n",
      "\n"
     ]
    }
   ],
   "source": [
    "df.withColumn('avg', df[1]/df[2]).show()"
   ]
  },
  {
   "cell_type": "code",
   "execution_count": 22,
   "metadata": {
    "collapsed": false
   },
   "outputs": [
    {
     "name": "stdout",
     "output_type": "stream",
     "text": [
      "+-------------+---+\n",
      "|         boro|avg|\n",
      "+-------------+---+\n",
      "|       Queens|474|\n",
      "|     Brooklyn|487|\n",
      "|Staten Island|477|\n",
      "|    Manhattan|514|\n",
      "|        Bronx|470|\n",
      "+-------------+---+\n",
      "\n"
     ]
    }
   ],
   "source": [
    "df.withColumn('avg', (df[1]/df[2]).cast('int')).select('boro', 'avg').show()"
   ]
  },
  {
   "cell_type": "markdown",
   "metadata": {},
   "source": [
    "## TWITTER STUFF"
   ]
  },
  {
   "cell_type": "code",
   "execution_count": 23,
   "metadata": {
    "collapsed": false
   },
   "outputs": [
    {
     "name": "stdout",
     "output_type": "stream",
     "text": [
      "root\n",
      " |-- contributors: string (nullable = true)\n",
      " |-- coordinates: struct (nullable = true)\n",
      " |    |-- coordinates: array (nullable = true)\n",
      " |    |    |-- element: double (containsNull = true)\n",
      " |    |-- type: string (nullable = true)\n",
      " |-- created_at: string (nullable = true)\n",
      " |-- entities: struct (nullable = true)\n",
      " |    |-- hashtags: array (nullable = true)\n",
      " |    |    |-- element: struct (containsNull = true)\n",
      " |    |    |    |-- indices: array (nullable = true)\n",
      " |    |    |    |    |-- element: long (containsNull = true)\n",
      " |    |    |    |-- text: string (nullable = true)\n",
      " |    |-- media: array (nullable = true)\n",
      " |    |    |-- element: struct (containsNull = true)\n",
      " |    |    |    |-- display_url: string (nullable = true)\n",
      " |    |    |    |-- expanded_url: string (nullable = true)\n",
      " |    |    |    |-- id: long (nullable = true)\n",
      " |    |    |    |-- id_str: string (nullable = true)\n",
      " |    |    |    |-- indices: array (nullable = true)\n",
      " |    |    |    |    |-- element: long (containsNull = true)\n",
      " |    |    |    |-- media_url: string (nullable = true)\n",
      " |    |    |    |-- media_url_https: string (nullable = true)\n",
      " |    |    |    |-- sizes: struct (nullable = true)\n",
      " |    |    |    |    |-- large: struct (nullable = true)\n",
      " |    |    |    |    |    |-- h: long (nullable = true)\n",
      " |    |    |    |    |    |-- resize: string (nullable = true)\n",
      " |    |    |    |    |    |-- w: long (nullable = true)\n",
      " |    |    |    |    |-- medium: struct (nullable = true)\n",
      " |    |    |    |    |    |-- h: long (nullable = true)\n",
      " |    |    |    |    |    |-- resize: string (nullable = true)\n",
      " |    |    |    |    |    |-- w: long (nullable = true)\n",
      " |    |    |    |    |-- small: struct (nullable = true)\n",
      " |    |    |    |    |    |-- h: long (nullable = true)\n",
      " |    |    |    |    |    |-- resize: string (nullable = true)\n",
      " |    |    |    |    |    |-- w: long (nullable = true)\n",
      " |    |    |    |    |-- thumb: struct (nullable = true)\n",
      " |    |    |    |    |    |-- h: long (nullable = true)\n",
      " |    |    |    |    |    |-- resize: string (nullable = true)\n",
      " |    |    |    |    |    |-- w: long (nullable = true)\n",
      " |    |    |    |-- source_status_id: long (nullable = true)\n",
      " |    |    |    |-- source_status_id_str: string (nullable = true)\n",
      " |    |    |    |-- type: string (nullable = true)\n",
      " |    |    |    |-- url: string (nullable = true)\n",
      " |    |-- symbols: array (nullable = true)\n",
      " |    |    |-- element: string (containsNull = true)\n",
      " |    |-- urls: array (nullable = true)\n",
      " |    |    |-- element: struct (containsNull = true)\n",
      " |    |    |    |-- display_url: string (nullable = true)\n",
      " |    |    |    |-- expanded_url: string (nullable = true)\n",
      " |    |    |    |-- indices: array (nullable = true)\n",
      " |    |    |    |    |-- element: long (containsNull = true)\n",
      " |    |    |    |-- url: string (nullable = true)\n",
      " |    |-- user_mentions: array (nullable = true)\n",
      " |    |    |-- element: struct (containsNull = true)\n",
      " |    |    |    |-- id: long (nullable = true)\n",
      " |    |    |    |-- id_str: string (nullable = true)\n",
      " |    |    |    |-- indices: array (nullable = true)\n",
      " |    |    |    |    |-- element: long (containsNull = true)\n",
      " |    |    |    |-- name: string (nullable = true)\n",
      " |    |    |    |-- screen_name: string (nullable = true)\n",
      " |-- favorite_count: long (nullable = true)\n",
      " |-- favorited: boolean (nullable = true)\n",
      " |-- filter_level: string (nullable = true)\n",
      " |-- geo: struct (nullable = true)\n",
      " |    |-- coordinates: array (nullable = true)\n",
      " |    |    |-- element: double (containsNull = true)\n",
      " |    |-- type: string (nullable = true)\n",
      " |-- id: long (nullable = true)\n",
      " |-- id_str: string (nullable = true)\n",
      " |-- in_reply_to_screen_name: string (nullable = true)\n",
      " |-- in_reply_to_status_id: long (nullable = true)\n",
      " |-- in_reply_to_status_id_str: string (nullable = true)\n",
      " |-- in_reply_to_user_id: long (nullable = true)\n",
      " |-- in_reply_to_user_id_str: string (nullable = true)\n",
      " |-- lang: string (nullable = true)\n",
      " |-- place: struct (nullable = true)\n",
      " |    |-- bounding_box: struct (nullable = true)\n",
      " |    |    |-- coordinates: array (nullable = true)\n",
      " |    |    |    |-- element: array (containsNull = true)\n",
      " |    |    |    |    |-- element: array (containsNull = true)\n",
      " |    |    |    |    |    |-- element: double (containsNull = true)\n",
      " |    |    |-- type: string (nullable = true)\n",
      " |    |-- contained_within: array (nullable = true)\n",
      " |    |    |-- element: string (containsNull = true)\n",
      " |    |-- country: string (nullable = true)\n",
      " |    |-- country_code: string (nullable = true)\n",
      " |    |-- full_name: string (nullable = true)\n",
      " |    |-- id: string (nullable = true)\n",
      " |    |-- name: string (nullable = true)\n",
      " |    |-- place_type: string (nullable = true)\n",
      " |    |-- url: string (nullable = true)\n",
      " |-- possibly_sensitive: boolean (nullable = true)\n",
      " |-- retweet_count: long (nullable = true)\n",
      " |-- retweeted: boolean (nullable = true)\n",
      " |-- source: string (nullable = true)\n",
      " |-- text: string (nullable = true)\n",
      " |-- truncated: boolean (nullable = true)\n",
      " |-- user: struct (nullable = true)\n",
      " |    |-- contributors_enabled: boolean (nullable = true)\n",
      " |    |-- created_at: string (nullable = true)\n",
      " |    |-- default_profile: boolean (nullable = true)\n",
      " |    |-- default_profile_image: boolean (nullable = true)\n",
      " |    |-- description: string (nullable = true)\n",
      " |    |-- favourites_count: long (nullable = true)\n",
      " |    |-- follow_request_sent: string (nullable = true)\n",
      " |    |-- followers_count: long (nullable = true)\n",
      " |    |-- following: string (nullable = true)\n",
      " |    |-- friends_count: long (nullable = true)\n",
      " |    |-- geo_enabled: boolean (nullable = true)\n",
      " |    |-- id: long (nullable = true)\n",
      " |    |-- id_str: string (nullable = true)\n",
      " |    |-- is_translation_enabled: boolean (nullable = true)\n",
      " |    |-- is_translator: boolean (nullable = true)\n",
      " |    |-- lang: string (nullable = true)\n",
      " |    |-- listed_count: long (nullable = true)\n",
      " |    |-- location: string (nullable = true)\n",
      " |    |-- name: string (nullable = true)\n",
      " |    |-- notifications: string (nullable = true)\n",
      " |    |-- profile_background_color: string (nullable = true)\n",
      " |    |-- profile_background_image_url: string (nullable = true)\n",
      " |    |-- profile_background_image_url_https: string (nullable = true)\n",
      " |    |-- profile_background_tile: boolean (nullable = true)\n",
      " |    |-- profile_banner_url: string (nullable = true)\n",
      " |    |-- profile_image_url: string (nullable = true)\n",
      " |    |-- profile_image_url_https: string (nullable = true)\n",
      " |    |-- profile_link_color: string (nullable = true)\n",
      " |    |-- profile_sidebar_border_color: string (nullable = true)\n",
      " |    |-- profile_sidebar_fill_color: string (nullable = true)\n",
      " |    |-- profile_text_color: string (nullable = true)\n",
      " |    |-- profile_use_background_image: boolean (nullable = true)\n",
      " |    |-- protected: boolean (nullable = true)\n",
      " |    |-- screen_name: string (nullable = true)\n",
      " |    |-- statuses_count: long (nullable = true)\n",
      " |    |-- time_zone: string (nullable = true)\n",
      " |    |-- url: string (nullable = true)\n",
      " |    |-- utc_offset: long (nullable = true)\n",
      " |    |-- verified: boolean (nullable = true)\n",
      "\n"
     ]
    }
   ],
   "source": [
    "dfTweets = sqlContext.read.load('twitter_1k.jsonl', format='json')\n",
    "dfTweets.printSchema() # assumes that has a right structure\n",
    "\n",
    "# TASK: Getting all the hashtags count"
   ]
  },
  {
   "cell_type": "code",
   "execution_count": 30,
   "metadata": {
    "collapsed": false
   },
   "outputs": [
    {
     "name": "stdout",
     "output_type": "stream",
     "text": [
      "+------------------+-----+\n",
      "|           hashtag|count|\n",
      "+------------------+-----+\n",
      "|USSaluteouttuesday|   33|\n",
      "|               NYC|    5|\n",
      "| privatepassSports|    4|\n",
      "|               nyc|    4|\n",
      "|         superbowl|    3|\n",
      "|       RobinThicke|    3|\n",
      "|              espn|    3|\n",
      "|               Job|    3|\n",
      "|   SuperBowlXLVIII|    3|\n",
      "|         redcarpet|    3|\n",
      "|      ESPNTHEPARTY|    2|\n",
      "|             ncaaw|    2|\n",
      "|              Jobs|    2|\n",
      "|             facts|    2|\n",
      "|               Raw|    2|\n",
      "|           NewYork|    2|\n",
      "|              soho|    2|\n",
      "|    henleyvaporium|    2|\n",
      "|                IT|    2|\n",
      "|         SuperBowl|    2|\n",
      "+------------------+-----+\n",
      "only showing top 20 rows\n",
      "\n"
     ]
    }
   ],
   "source": [
    "import pyspark.sql.functions as sf\n",
    "\n",
    "dfTweets = sqlContext.read.load('twitter_1k.jsonl', format='json')\n",
    "hashtags = dfTweets.select('entities.hashtags.text')\n",
    "hashtags = hashtags.filter(sf.size('text')>0) #removes the empty fields text > 0\n",
    "#hashtags.show() \n",
    "# +--------------------+\n",
    "# |                text|\n",
    "# +--------------------+\n",
    "# | [privatepassSports]|\n",
    "# |[MaddenNeverLeave...|\n",
    "# |[rave, edm, plur,...|\n",
    "# |             [Bulls]|\n",
    "# |[czechgirls, czec...|\n",
    "# |[USSaluteouttuesday]|\n",
    "# | [Scan961, Viviendo]|\n",
    "# |[USSaluteouttuesday]|\n",
    "# |           [fly, ho]|\n",
    "# |[USSaluteouttuesday]|\n",
    "# |        [Sacrifices]|\n",
    "# |[USSaluteouttuesday]|\n",
    "# |          [porqueno]|\n",
    "# |[takemebacktoBarc...|\n",
    "# |[USSaluteouttuesday]|\n",
    "# |[if, ifsoho, soho...|\n",
    "# |[USSaluteouttuesday]|\n",
    "# |[dayoff, relaxday...|\n",
    "# |            [Dexter]|\n",
    "# |[USSaluteouttuesday]|\n",
    "# +--------------------+\n",
    "#only showing top 20 rows\n",
    "hashtags = hashtags.select(sf.explode('text').alias('hashtag')) # list of list and make into a single list \n",
    "hashtags = hashtags.groupBy('hashtag').count().orderBy('count', ascending=False)\n",
    "hashtags.show()"
   ]
  },
  {
   "cell_type": "code",
   "execution_count": null,
   "metadata": {
    "collapsed": true
   },
   "outputs": [],
   "source": [
    "# WHEN RUNNING YOUR SPARK SCRIPT ON THE CLUSTER \n",
    "\n",
    "# sc = SparkContext()\n",
    "# sqlContext = SQLContext(sc)\n",
    "\n",
    "# checking error, you need to do yarn error -applicationID <application id>"
   ]
  }
 ],
 "metadata": {
  "kernelspec": {
   "display_name": "Python 2",
   "language": "python",
   "name": "python2"
  },
  "language_info": {
   "codemirror_mode": {
    "name": "ipython",
    "version": 2
   },
   "file_extension": ".py",
   "mimetype": "text/x-python",
   "name": "python",
   "nbconvert_exporter": "python",
   "pygments_lexer": "ipython2",
   "version": "2.7.13"
  }
 },
 "nbformat": 4,
 "nbformat_minor": 2
}
