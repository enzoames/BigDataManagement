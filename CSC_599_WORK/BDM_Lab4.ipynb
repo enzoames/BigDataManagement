{
 "cells": [
  {
   "cell_type": "markdown",
   "metadata": {},
   "source": [
    "# Lab 4 - MapReduce\n",
    "\n",
    "In this lab, we are practicing the MapReduce programming paradigm. \n",
    "\n",
    "We will complete the task using the accompanied *mapreduce* package (as **mapreduce.py**) with one or more MapReduce \"jobs\". Please download the **mapreduce.py** file from Blackboard, and place it in the same folder with your notebook.\n",
    "\n",
    "For each such job (with mr.run()), you are expected to supply a mapper and a reducer as needed. Below are sample usage of the package:\n",
    "\n",
    "```python\n",
    "    # Run on input1 using your mapper1 and reducer1 function\n",
    "    output = list(mr.run(input1, mapper1, reducer1))\n",
    "\n",
    "    # Run on input2 using only your mapper2, no reduce phase\n",
    "    output = list(mr.run(input2, mapper2))\n",
    "    \n",
    "    # Run on input3 using 2 nested MapReduce jobs\n",
    "    output = list(mr.run(mr.run(input3, mapper3, reducer3), mapper4, reducer4))\n",
    "```\n",
    "    \n",
    "Please note that the output of the mr.run() is always a **generator**. You have to cast it to a list if you'd like to view, index or print it out.\n",
    "\n",
    "The tasks below alos include those that are in Homework 3, but we're using MapReduce instead of Python's general Higher Order Functions.\n",
    "\n",
    "You will need **book.txt** and **citibike.csv** file from Blackboard."
   ]
  },
  {
   "cell_type": "code",
   "execution_count": 4,
   "metadata": {
    "collapsed": true
   },
   "outputs": [],
   "source": [
    "import csv\n",
    "import mapreduce as mr"
   ]
  },
  {
   "cell_type": "markdown",
   "metadata": {},
   "source": [
    "## Warm-up\n",
    "\n",
    "Here is another concrete example on \"Word Count\" using the package. Assuming we have a text file named *book.txt*. Our task is to count the frequency of words in this document, and print the top 10. For illustration purposes, we use only the first 1000 lines of the book for counting."
   ]
  },
  {
   "cell_type": "code",
   "execution_count": 5,
   "metadata": {
    "collapsed": false
   },
   "outputs": [
    {
     "name": "stdout",
     "output_type": "stream",
     "text": [
      "[('the', 411), ('of', 337), ('and', 250), ('a', 184), ('or', 162), ('with', 102), ('to', 101), ('in', 90), ('on', 69), ('as', 58)]\n"
     ]
    }
   ],
   "source": [
    "with open('book.txt', 'r') as fi:\n",
    "    lines = [line.strip() for i,line in enumerate(fi) if i<1000]\n",
    "\n",
    "### After this, 'lines' stores a list of 1000 text lines\n",
    "def mapper(line):\n",
    "    for word in line.strip().split(' '):\n",
    "        if len(word)>0:\n",
    "            yield (word.lower(), 1)\n",
    "    \n",
    "def reducer(k2v2):\n",
    "    word, list_of_ones = k2v2\n",
    "    return (word, sum(list_of_ones))\n",
    "\n",
    "wCounts = list(mr.run(lines, mapper, reducer))\n",
    "sortedCounts = sorted(wCounts, key=lambda x: -x[1])\n",
    "print sortedCounts[:10]"
   ]
  },
  {
   "cell_type": "markdown",
   "metadata": {},
   "source": [
    "\n",
    "\n",
    "## Task 1\n",
    "\n",
    "We would like to write a MapReduce job to count the total number of trips involved at each station. For example, if a trip starts at station A and stops at station B, the trip will count for both A and B. The output must be tuples, each consisting of a station name and a count."
   ]
  },
  {
   "cell_type": "code",
   "execution_count": 8,
   "metadata": {
    "collapsed": false
   },
   "outputs": [
    {
     "data": {
      "text/plain": [
       "[('1 Ave & E 15 St', 795),\n",
       " ('1 Ave & E 44 St', 219),\n",
       " ('10 Ave & W 28 St', 422),\n",
       " ('11 Ave & W 27 St', 354),\n",
       " ('11 Ave & W 41 St', 461),\n",
       " ('11 Ave & W 59 St', 242),\n",
       " ('12 Ave & W 40 St', 217),\n",
       " ('2 Ave & E 31 St', 588),\n",
       " ('2 Ave & E 58 St', 125),\n",
       " ('3 Ave & Schermerhorn St', 34)]"
      ]
     },
     "execution_count": 8,
     "metadata": {},
     "output_type": "execute_result"
    }
   ],
   "source": [
    "def mapper1(row): \n",
    "    yield (row['start_station_name'], 1) \n",
    "    yield (row['end_station_name'], 1)\n",
    "\n",
    "def reducer1(k2v2):\n",
    "    station, list_of_ones = k2v2 #there is no notion of global variables here.\n",
    "    return (station, sum(list_of_ones))\n",
    "    \n",
    "with open('citibike.csv', 'r') as fi: \n",
    "    reader = csv.DictReader(fi)\n",
    "    output1 = list(mr.run(reader, mapper1, reducer1)) #you can not use dictionaryes here\n",
    "\n",
    "output1[:10]"
   ]
  },
  {
   "cell_type": "markdown",
   "metadata": {},
   "source": [
    "\n",
    "## Task 2\n",
    "\n",
    "Below is an example of showing how to use nested jobs and jobs with mappers only using the mapreduce package, thus, no points are included. Our task here is that we would like to filter the output of Task 1 to display only those stations with more than 1000 trips involved, of course, using the MapReduce paradigm."
   ]
  },
  {
   "cell_type": "code",
   "execution_count": 10,
   "metadata": {
    "collapsed": false
   },
   "outputs": [
    {
     "data": {
      "text/plain": [
       "[('8 Ave & W 31 St', 1065),\n",
       " ('E 43 St & Vanderbilt Ave', 1003),\n",
       " ('Lafayette St & E 8 St', 1013),\n",
       " ('W 21 St & 6 Ave', 1057),\n",
       " ('W 41 St & 8 Ave', 1095)]"
      ]
     },
     "execution_count": 10,
     "metadata": {},
     "output_type": "execute_result"
    }
   ],
   "source": [
    "def mapper2((station,count)): #parameter is in parenthesis bc we know how its formatted ( , ) tuple \n",
    "    #(station, count) = k1v1\n",
    "    if count > 1000:\n",
    "        yield (station,count)\n",
    "\n",
    "with open('citibike.csv', 'r') as fi:\n",
    "    reader = csv.DictReader(fi)\n",
    "    output2 = list(mr.run(mr.run(reader, mapper1, reducer1), mapper2))\n",
    "\n",
    "output2"
   ]
  },
  {
   "cell_type": "markdown",
   "metadata": {},
   "source": [
    "\n",
    "## Task 3\n",
    "\n",
    "We would like to count the number of trips taken between pairs of stations. Trips taken from station A to station B or  from station B to station A are both counted towards the station pair A and B. Please note that the station pair shoud be identified by station names, as a tuple, and in lexical order, i.e. (A,B) instead of (B,A) in this case. The output must be tuples, each consisting of the station pair identification and a count."
   ]
  },
  {
   "cell_type": "code",
   "execution_count": 12,
   "metadata": {
    "collapsed": false
   },
   "outputs": [
    {
     "data": {
      "text/plain": [
       "[(('1 Ave & E 15 St', '1 Ave & E 15 St'), 5),\n",
       " (('1 Ave & E 15 St', '1 Ave & E 44 St'), 6),\n",
       " (('1 Ave & E 15 St', '11 Ave & W 27 St'), 1),\n",
       " (('1 Ave & E 15 St', '2 Ave & E 31 St'), 9),\n",
       " (('1 Ave & E 15 St', '5 Ave & E 29 St'), 2),\n",
       " (('1 Ave & E 15 St', '6 Ave & Broome St'), 3),\n",
       " (('1 Ave & E 15 St', '6 Ave & Canal St'), 1),\n",
       " (('1 Ave & E 15 St', '8 Ave & W 31 St'), 5),\n",
       " (('1 Ave & E 15 St', '9 Ave & W 14 St'), 3),\n",
       " (('1 Ave & E 15 St', '9 Ave & W 16 St'), 3)]"
      ]
     },
     "execution_count": 12,
     "metadata": {},
     "output_type": "execute_result"
    }
   ],
   "source": [
    "def mapper3(row):\n",
    "#     if [row['start_station_name'] < row['end_station_name']:\n",
    "#         pair = [row['start_station_name'], row['end_station_name']\n",
    "#     else \n",
    "#         pair = [row['end_station_name'], row['start_station_name']\n",
    "    \n",
    "    yield (tuple(sorted([row['start_station_name'], row['end_station_name']])), 1)\n",
    "\n",
    "def reducer3((station, counts)):\n",
    "    return (station, sum(counts))\n",
    "\n",
    "with open('citibike.csv', 'r') as fi:\n",
    "    reader = csv.DictReader(fi)\n",
    "    output3 = list(mr.run(reader, mapper3, reducer3))\n",
    "\n",
    "output3[:10]"
   ]
  },
  {
   "cell_type": "markdown",
   "metadata": {},
   "source": [
    "\n",
    "## Task 4\n",
    "\n",
    "Next, we would like to futher process the output from Task 3 to determine the station popularity among all of the station pairs that have 35 or more trips. The popularity of station is calculated as how many times it appears in the station pair lists for the top pairs. In other words, we would like to first filter the station pairs to only those that have 35 or more trips. Then, among these pairs, we count how many time each station appears and report back these counts. The output will be tuples, each consisting of the station name and a count."
   ]
  },
  {
   "cell_type": "code",
   "execution_count": 13,
   "metadata": {
    "collapsed": false
   },
   "outputs": [
    {
     "data": {
      "text/plain": [
       "[('10 Ave & W 28 St', 1),\n",
       " ('11 Ave & W 27 St', 2),\n",
       " ('11 Ave & W 41 St', 1),\n",
       " ('8 Ave & W 31 St', 3),\n",
       " ('8 Ave & W 33 St', 1),\n",
       " ('9 Ave & W 22 St', 1),\n",
       " ('Adelphi St & Myrtle Ave', 1),\n",
       " ('DeKalb Ave & Hudson Ave', 1),\n",
       " ('E 10 St & Avenue A', 1),\n",
       " ('E 24 St & Park Ave S', 2),\n",
       " ('E 27 St & 1 Ave', 1),\n",
       " ('E 32 St & Park Ave', 1),\n",
       " ('E 33 St & 2 Ave', 2),\n",
       " ('E 43 St & Vanderbilt Ave', 2),\n",
       " ('E 47 St & Park Ave', 1),\n",
       " ('E 6 St & Avenue B', 1),\n",
       " ('E 7 St & Avenue A', 1),\n",
       " ('Lafayette St & E 8 St', 3),\n",
       " ('Pershing Square North', 1),\n",
       " ('Pershing Square South', 2),\n",
       " ('Vesey Pl & River Terrace', 1),\n",
       " ('W 17 St & 8 Ave', 1),\n",
       " ('W 20 St & 11 Ave', 2),\n",
       " ('W 21 St & 6 Ave', 1),\n",
       " ('W 26 St & 8 Ave', 1),\n",
       " ('W 31 St & 7 Ave', 2),\n",
       " ('W 33 St & 7 Ave', 2),\n",
       " ('W 41 St & 8 Ave', 4),\n",
       " ('West Thames St', 1)]"
      ]
     },
     "execution_count": 13,
     "metadata": {},
     "output_type": "execute_result"
    }
   ],
   "source": [
    "def mapper4((station_pair, count)):\n",
    "    if count >=35:\n",
    "        yield (station_pair[0], 1)\n",
    "        yield(station_pair[1], 1)\n",
    "    \n",
    "def reducer4((station,ones)):\n",
    "    return (station,len(ones))\n",
    "\n",
    "output4 = list(mr.run(output3, mapper4, reducer4))\n",
    "output4"
   ]
  },
  {
   "cell_type": "markdown",
   "metadata": {},
   "source": [
    "\n",
    "## Task 4a\n",
    "\n",
    "This is another example of showing how to use nested jobs and to put everything together, so no points are given. Basically, we can run Task 3 and Task 4 combined in just a single call."
   ]
  },
  {
   "cell_type": "code",
   "execution_count": 14,
   "metadata": {
    "collapsed": false
   },
   "outputs": [
    {
     "data": {
      "text/plain": [
       "[('10 Ave & W 28 St', 1),\n",
       " ('11 Ave & W 27 St', 2),\n",
       " ('11 Ave & W 41 St', 1),\n",
       " ('8 Ave & W 31 St', 3),\n",
       " ('8 Ave & W 33 St', 1),\n",
       " ('9 Ave & W 22 St', 1),\n",
       " ('Adelphi St & Myrtle Ave', 1),\n",
       " ('DeKalb Ave & Hudson Ave', 1),\n",
       " ('E 10 St & Avenue A', 1),\n",
       " ('E 24 St & Park Ave S', 2),\n",
       " ('E 27 St & 1 Ave', 1),\n",
       " ('E 32 St & Park Ave', 1),\n",
       " ('E 33 St & 2 Ave', 2),\n",
       " ('E 43 St & Vanderbilt Ave', 2),\n",
       " ('E 47 St & Park Ave', 1),\n",
       " ('E 6 St & Avenue B', 1),\n",
       " ('E 7 St & Avenue A', 1),\n",
       " ('Lafayette St & E 8 St', 3),\n",
       " ('Pershing Square North', 1),\n",
       " ('Pershing Square South', 2),\n",
       " ('Vesey Pl & River Terrace', 1),\n",
       " ('W 17 St & 8 Ave', 1),\n",
       " ('W 20 St & 11 Ave', 2),\n",
       " ('W 21 St & 6 Ave', 1),\n",
       " ('W 26 St & 8 Ave', 1),\n",
       " ('W 31 St & 7 Ave', 2),\n",
       " ('W 33 St & 7 Ave', 2),\n",
       " ('W 41 St & 8 Ave', 4),\n",
       " ('West Thames St', 1)]"
      ]
     },
     "execution_count": 14,
     "metadata": {},
     "output_type": "execute_result"
    }
   ],
   "source": [
    "with open('citibike.csv', 'r') as fi:\n",
    "    reader = csv.DictReader(fi)\n",
    "    output4 = list(mr.run(mr.run(reader, mapper3, reducer3), mapper4, reducer4))\n",
    "output4"
   ]
  },
  {
   "cell_type": "markdown",
   "metadata": {},
   "source": [
    "\n",
    "## Task 5\n",
    "\n",
    "In this task, you are asked to compute the station with the most riders started from, per each gender of the *'Subscriber'* user. Meaning, what was the station name with the highest number of bike pickups for female riders, for male riders and for unknown riders.\n",
    "\n",
    "The output will be a list of tuples, each includes a gender label (as indicated below) and another tuple consisting of a station name, and the total number of trips started at that station for that gender.\n",
    "\n",
    "The label mapping for the gender column in citibike.csv is: (Zero=<b>Unknown</b>; 1=<b>Male</b>; 2=<b>Female</b>)"
   ]
  },
  {
   "cell_type": "code",
   "execution_count": 18,
   "metadata": {
    "collapsed": false
   },
   "outputs": [
    {
     "data": {
      "text/plain": [
       "[('Female', ('W 21 St & 6 Ave', 107)),\n",
       " ('Male', ('8 Ave & W 31 St', 488)),\n",
       " ('Unknown', ('Catherine St & Monroe St', 1))]"
      ]
     },
     "execution_count": 18,
     "metadata": {},
     "output_type": "execute_result"
    }
   ],
   "source": [
    "def mapper5(row):\n",
    "    if row['usertype'] == 'Subscriber':\n",
    "        yield ((row['gender'], row['start_station_name']), 1)    # ( (___ , ___ ), ___)\n",
    "\n",
    "def reducer5(((gender, station_name), counts)):\n",
    "    return (gender, (station_name, sum(counts)))\n",
    "\n",
    "def mapper6((gender, station_counts)):\n",
    "    nameMap = {0: 'Unknown', 1: \"Male\", 2: 'Female'}\n",
    "    yield (nameMap[int(gender)], station_counts)\n",
    "            \n",
    "def reducer6((gender, station_counts)):\n",
    "    return (gender, max(station_counts, key=lambda x: x[1]))\n",
    "\n",
    "with open('citibike.csv', 'r') as fi:\n",
    "    reader = csv.DictReader(fi)\n",
    "    output5 = list(mr.run(mr.run(reader, mapper5, reducer5), mapper6, reducer6))\n",
    "\n",
    "output5"
   ]
  },
  {
   "cell_type": "code",
   "execution_count": null,
   "metadata": {
    "collapsed": true
   },
   "outputs": [],
   "source": []
  }
 ],
 "metadata": {
  "kernelspec": {
   "display_name": "Python 2",
   "language": "python",
   "name": "python2"
  },
  "language_info": {
   "codemirror_mode": {
    "name": "ipython",
    "version": 2
   },
   "file_extension": ".py",
   "mimetype": "text/x-python",
   "name": "python",
   "nbconvert_exporter": "python",
   "pygments_lexer": "ipython2",
   "version": "2.7.13"
  }
 },
 "nbformat": 4,
 "nbformat_minor": 0
}
