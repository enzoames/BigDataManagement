{
 "cells": [
  {
   "cell_type": "markdown",
   "metadata": {},
   "source": [
    "# Python Higher Order Functions\n",
    "\n",
    "### Practice Problems \n",
    "\n",
    "Please note that you may only use higher order functions **without access to global variables**. Your expression should contain only **map()**, **filter()**, **sorted**, **reduce()** and your custom functions.\n",
    "\n",
    "We will be using only the citibike data (i.e. *citibike.csv*) for this homework."
   ]
  },
  {
   "cell_type": "code",
   "execution_count": 4,
   "metadata": {
    "collapsed": true
   },
   "outputs": [],
   "source": [
    "import csv"
   ]
  },
  {
   "cell_type": "markdown",
   "metadata": {},
   "source": [
    "## Task 1\n",
    "\n",
    "You are provided a list of service status updates scraped from an MTA information website. Each update may indicate <i>Good Service</i>, <i>Planned Work</i>, or <i>Delays</i> for one or more subway lines. Our first objective is to list all the lines that are running with <i>Delays</i>. To guide you through the process, our problem are also split into smaller tasks."
   ]
  },
  {
   "cell_type": "code",
   "execution_count": 1,
   "metadata": {
    "collapsed": true
   },
   "outputs": [],
   "source": [
    "# This is your input data, a list of subway line status.\n",
    "# It is a list of string in a specific format\n",
    "\n",
    "status = [\n",
    "    '1,2,3 : Good Service',\n",
    "    '4,5,6 : Delays',\n",
    "    '7 : Good Service',\n",
    "    'A,C : Good Service',\n",
    "    'E : Planned Work',\n",
    "    'G : Delays',\n",
    "    'B,D,F,M : Good Service',\n",
    "    'J,Z : Delays',\n",
    "    'L : Good Service',\n",
    "    'N,Q,R : Planned Work',\n",
    "    'S : Good Service',\n",
    "]"
   ]
  },
  {
   "cell_type": "markdown",
   "metadata": {},
   "source": [
    "#### 1.1 Please complete the lambda expression to filter only the status updates for the lines that run with <i>Delays</i>."
   ]
  },
  {
   "cell_type": "code",
   "execution_count": 2,
   "metadata": {
    "collapsed": false
   },
   "outputs": [
    {
     "name": "stdout",
     "output_type": "stream",
     "text": [
      "20\n",
      "<type 'list'>\n",
      "['4,5,6 : Delays', 'G : Delays', 'J,Z : Delays']\n",
      "<type 'list'>\n"
     ]
    }
   ],
   "source": [
    "#example how to quickly use lambda\n",
    "example = lambda x: x+x\n",
    "print example(10)\n",
    "\n",
    "#Now lambda with a filter function to work on the list status\n",
    "delays = filter(lambda x: 'Delays' in x, status)\n",
    "\n",
    "print type(status)\n",
    "print delays\n",
    "print type(delays)"
   ]
  },
  {
   "cell_type": "markdown",
   "metadata": {},
   "source": [
    "#### 1.2 Please complete the lambda expression below to convert each status line into a list of subway lines, i.e. <b><i>'4,5,6 : Delays'</i></b> would become <b><i>['4','5','6']</i></b>"
   ]
  },
  {
   "cell_type": "code",
   "execution_count": 3,
   "metadata": {
    "collapsed": false
   },
   "outputs": [
    {
     "data": {
      "text/plain": [
       "[['4', '5', '6'], ['G'], ['J', 'Z']]"
      ]
     },
     "execution_count": 3,
     "metadata": {},
     "output_type": "execute_result"
    }
   ],
   "source": [
    "# .split() takes in two parameters SEPARTOR and MAXSPLIT (optionals)\n",
    "# .split(SEPARATOR, MAXSPLIT) the specified character ex: ',' and the maximum number of splits \n",
    "\n",
    "DelayLinesList = map( lambda x: x.split(' :')[0].split(','), filter(lambda x: 'Delays' in x, status) )\n",
    "# We map the lambda function to the list we get from the previous filter\n",
    "# the [0] is added bc we have a list of pairs separated by ':'\n",
    "\n",
    "DelayLinesList"
   ]
  },
  {
   "cell_type": "markdown",
   "metadata": {},
   "source": [
    "#### 1.3 Please complete the reduce command below to convert each the list of subway lists given in <i>delayLineList</i> into a single list of subway lines running with delay."
   ]
  },
  {
   "cell_type": "code",
   "execution_count": 4,
   "metadata": {
    "collapsed": false
   },
   "outputs": [
    {
     "data": {
      "text/plain": [
       "['4', '5', '6', 'G', 'J', 'Z']"
      ]
     },
     "execution_count": 4,
     "metadata": {},
     "output_type": "execute_result"
    }
   ],
   "source": [
    "delayLines = reduce( lambda x, y : x+y, DelayLinesList ) \n",
    "#To use reduce function, the second parameter has to be a sequence. \n",
    "#In the reduce function, the lambda fucntion takes two variables, \n",
    "\n",
    "delayLines\n",
    "# After this, your delayLines should be\n",
    "# ['4', '5', '6', 'G', 'J', 'Z']"
   ]
  },
  {
   "cell_type": "markdown",
   "metadata": {},
   "source": [
    "#### 1.4 Please complete the reduce command below to count the number of lines in <b>delayLines</b>."
   ]
  },
  {
   "cell_type": "code",
   "execution_count": 5,
   "metadata": {
    "collapsed": false
   },
   "outputs": [
    {
     "data": {
      "text/plain": [
       "6"
      ]
     },
     "execution_count": 5,
     "metadata": {},
     "output_type": "execute_result"
    }
   ],
   "source": [
    "delayLinesCount = reduce(lambda x, y: x+1 ,delayLines, 0) \n",
    "#NOT FORGET! Reduce can also take a THIRD parameter. It specifies where you want the reducing proccess to start\n",
    "\n",
    "delayLinesCount\n",
    "\n",
    "# After this, your delayLineCount should be\n",
    "# 6"
   ]
  },
  {
   "cell_type": "markdown",
   "metadata": {},
   "source": [
    "## Task 2\n",
    "\n",
    "In this excercise, we would like to expand the combined service updatse into separate updates for each subway line. For example, instead of having a single line <b>'1,2,3 : Good Service'</b> to indicate that line 1, 2, and 3 are in good service, we would like to convert that into 3 separate updates: <b>'1 : Good Service'</b>, <b>'2 : Good Service'</b>, and <b>'3 : Good Service'</b>.\n",
    "\n",
    "You are tasked to write a chain of map(), filter(), and/or reduce() to convert the <b>status</b> variable into a list like below:"
   ]
  },
  {
   "cell_type": "markdown",
   "metadata": {},
   "source": [
    "['1 : Good Service',\n",
    " '2 : Good Service',\n",
    " '3 : Good Service',\n",
    " '4 : Delays',\n",
    " '5 : Delays',\n",
    " '6 : Delays',\n",
    " '7 : Good Service',\n",
    " 'A : Good Service',\n",
    " 'C : Good Service',\n",
    " 'E : Planned Work',\n",
    " 'G : Delays',\n",
    " 'B : Good Service',\n",
    " 'D : Good Service',\n",
    " 'F : Good Service',\n",
    " 'M : Good Service',\n",
    " 'J : Delays',\n",
    " 'Z : Delays',\n",
    " 'L : Good Service',\n",
    " 'N : Planned Work',\n",
    " 'Q : Planned Work',\n",
    " 'R : Planned Work',\n",
    " 'S : Good Service']"
   ]
  },
  {
   "cell_type": "code",
   "execution_count": 123,
   "metadata": {
    "collapsed": false
   },
   "outputs": [
    {
     "name": "stdout",
     "output_type": "stream",
     "text": [
      "1: Good Service\n",
      "2: Good Service\n",
      "3 : Good Service\n",
      "4: Delays\n",
      "5: Delays\n",
      "6 : Delays\n",
      "7 : Good Service\n",
      "A: Good Service\n",
      "C : Good Service\n",
      "E : Planned Work\n",
      "G : Delays\n",
      "B: Good Service\n",
      "D: Good Service\n",
      "F: Good Service\n",
      "M : Good Service\n",
      "J: Delays\n",
      "Z : Delays\n",
      "L : Good Service\n",
      "N: Planned Work\n",
      "Q: Planned Work\n",
      "R : Planned Work\n",
      "S : Good Service\n"
     ]
    }
   ],
   "source": [
    "def transformLine(row):\n",
    "    subway, status = row.split(':') \n",
    "    subway = subway.split(',')\n",
    "    return map(lambda x: x + ':' + status,  subway)\n",
    "    \n",
    "#updates = map(transformLine, status)\n",
    "\n",
    "updates = reduce(lambda x, y: x + y , map(transformLine, status))\n",
    "    \n",
    "print ('\\n').join(updates)\n",
    "\n",
    "#status\n",
    "# ['1,2,3 : Good Service',\n",
    "#  '4,5,6 : Delays',\n",
    "#  '7 : Good Service',\n",
    "#  'A,C : Good Service',\n",
    "#  'E : Planned Work',\n",
    "#  'G : Delays',\n",
    "#  'B,D,F,M : Good Service',\n",
    "#  'J,Z : Delays',\n",
    "#  'L : Good Service',\n",
    "#  'N,Q,R : Planned Work',\n",
    "#  'S : Good Service']\n"
   ]
  },
  {
   "cell_type": "markdown",
   "metadata": {
    "collapsed": true
   },
   "source": [
    "## Task 3\n",
    "\n",
    "In this excercise, you are tasked to perform a similar task as in Task 1 of Homework 1 but extracting the birth year of the first 'Subscriber' ride of the day from the *citibike.csv*. However, instead of iterating through the stream using generators, you are asked to complete the task using higher order functions map(), filter() and/or reduce(). You are free to define additional functions to be used in your higher order functions, however, you are not allowed to use global variables within these functions without being passed in as arguments."
   ]
  },
  {
   "cell_type": "code",
   "execution_count": 36,
   "metadata": {
    "collapsed": false
   },
   "outputs": [
    {
     "data": {
      "text/plain": [
       "['1978', '1992', '1982', '1969', '1971', '1989', '1963']"
      ]
     },
     "execution_count": 36,
     "metadata": {},
     "output_type": "execute_result"
    }
   ],
   "source": [
    "def reducer(finalList, row): # (__output__, __input__) \n",
    "    if row['usertype'] == 'Subscriber': #checks if user is subscriber\n",
    "        day = row['starttime'].split(' ')[0] #grabs the start time and splits it to grab current day: 2015-02-01\n",
    "        \n",
    "        if len(finaList) == 0 or xyz[-1][0] < day: # if list empty or if last element is less than the day grabbed above ^^^\n",
    "            finalList.append((day, row['birth_year'])) #append to list a tuple: [(day , 'birth_year')]\n",
    "    return finalList\n",
    "    \n",
    "with open('citibike.csv','r') as fi:\n",
    "    reader = csv.DictReader(fi)\n",
    "    first_birth_years = map(lambda x: x[1], reduce(reducer, reader, [])) # reduce( __function__ , __iterable__ , __initializer__ )\n",
    "    \n",
    "first_birth_years"
   ]
  },
  {
   "cell_type": "markdown",
   "metadata": {},
   "source": [
    "\n",
    "## Example for the use of sorted()\n",
    "\n",
    "We would like to write an HOF expression to count the total number of trip activities involved each station. For example, if a rider starts a trip at station A and ends at station B, each station A and B will receive +1 count for  the trip. The output must be tuples, each consisting of a station name and a total count. A portion of the expected output are included below.\n",
    "\n",
    "* **NOTE:** a suggested solution is given below to demonstrate the use of **sorted()**"
   ]
  },
  {
   "cell_type": "code",
   "execution_count": 37,
   "metadata": {
    "collapsed": false
   },
   "outputs": [
    {
     "data": {
      "text/plain": [
       "[('1 Ave & E 15 St', 795),\n",
       " ('1 Ave & E 44 St', 219),\n",
       " ('10 Ave & W 28 St', 422),\n",
       " ('11 Ave & W 27 St', 354),\n",
       " ('11 Ave & W 41 St', 461),\n",
       " ('11 Ave & W 59 St', 242),\n",
       " ('12 Ave & W 40 St', 217),\n",
       " ('2 Ave & E 31 St', 588),\n",
       " ('2 Ave & E 58 St', 125),\n",
       " ('3 Ave & Schermerhorn St', 34)]"
      ]
     },
     "execution_count": 37,
     "metadata": {},
     "output_type": "execute_result"
    }
   ],
   "source": [
    "def mapper1(row):\n",
    "    return (row['start_station_name'], row['end_station_name'])\n",
    "\n",
    "def reducer1(counts, pair): # (__output__, __input__) **SAME** ( initializer passed , list to work with ) \n",
    "    for p in pair:\n",
    "        counts[p] = counts.get(p, 0)+1\n",
    "    return counts\n",
    "\n",
    "with open('citibike.csv', 'r') as fi:\n",
    "    reader = csv.DictReader(fi)\n",
    "    output1 = sorted(reduce(reducer1, map(mapper1, reader), {} ).items()) # {} optional / initializes in counts\n",
    "\n",
    "output1[:10]\n",
    "\n",
    "#The output that should be obtained\n",
    "# [('1 Ave & E 15 St', 795),\n",
    "#  ('1 Ave & E 44 St', 219),\n",
    "#  ('10 Ave & W 28 St', 422),\n",
    "#  ('11 Ave & W 27 St', 354),\n",
    "#  ('11 Ave & W 41 St', 461),\n",
    "#  ('11 Ave & W 59 St', 242),\n",
    "#  ('12 Ave & W 40 St', 217),\n",
    "#  ('2 Ave & E 31 St', 588),\n",
    "#  ('2 Ave & E 58 St', 125),\n",
    "#  ('3 Ave & Schermerhorn St', 34)]"
   ]
  },
  {
   "cell_type": "markdown",
   "metadata": {},
   "source": [
    "## Task 4\n",
    "\n",
    "Next, we would like to do the same task as the example, but only keep the stations with more than 1000 trips involved. Please add your HOF expression below."
   ]
  },
  {
   "cell_type": "code",
   "execution_count": 41,
   "metadata": {
    "collapsed": false
   },
   "outputs": [
    {
     "data": {
      "text/plain": [
       "[('8 Ave & W 31 St', 1065),\n",
       " ('E 43 St & Vanderbilt Ave', 1003),\n",
       " ('Lafayette St & E 8 St', 1013),\n",
       " ('W 21 St & 6 Ave', 1057),\n",
       " ('W 41 St & 8 Ave', 1095)]"
      ]
     },
     "execution_count": 41,
     "metadata": {},
     "output_type": "execute_result"
    }
   ],
   "source": [
    "def mapper1(row):\n",
    "    return (row['start_station_name'], row['end_station_name'])\n",
    "\n",
    "def reducer1(counts, pair):\n",
    "    for p in pair:\n",
    "        counts[p] = counts.get(p, 0)+1\n",
    "    return counts\n",
    "\n",
    "with open('citibike.csv', 'r') as fi:\n",
    "    reader = csv.DictReader(fi)\n",
    "    output2 = filter( lambda x: x[1]>1000 ,sorted(reduce(reducer1, map(mapper1, reader), {} ).items())) \n",
    "    # {} optional / initializes in counts\n",
    "    \n",
    "output2[:10]"
   ]
  },
  {
   "cell_type": "markdown",
   "metadata": {},
   "source": [
    "#### Quick example of adding initializer to the reduce function\n",
    "list1 = [ ( 'key1', 0 ), ( 'key2', 1 ), ( 'key3', 2 ), ( 'key4', 3 ), ( 'key5', 4 )]\n",
    "\n",
    "def reduceExample( counts, pair):\n",
    "    print type(counts)\n",
    "    print type(pair)\n",
    "    \n",
    "    \n",
    "reduce(reduceExample, list1, {})  "
   ]
  },
  {
   "cell_type": "markdown",
   "metadata": {},
   "source": [
    "\n",
    "## Task 5\n",
    "\n",
    "We would like to count the number of trips taken between pairs of stations. Trips taken from station A to station B or  from station B to station A are both counted towards the station pair A and B. *Please note that the station pair should be identified by station names, as a tuple, and **in lexical order**, i.e. **(A,B)** instead of ~~(B,A)~~ in this case*. The output must be tuples, each consisting of the station pair identification and a count. A portion of the expected output are included below. Please provide your HOF expression."
   ]
  },
  {
   "cell_type": "code",
   "execution_count": 5,
   "metadata": {
    "collapsed": false
   },
   "outputs": [
    {
     "data": {
      "text/plain": [
       "[(('1 Ave & E 15 St', '1 Ave & E 15 St'), 5),\n",
       " (('1 Ave & E 15 St', '1 Ave & E 44 St'), 6),\n",
       " (('1 Ave & E 15 St', '11 Ave & W 27 St'), 1),\n",
       " (('1 Ave & E 15 St', '2 Ave & E 31 St'), 9),\n",
       " (('1 Ave & E 15 St', '5 Ave & E 29 St'), 2),\n",
       " (('1 Ave & E 15 St', '6 Ave & Broome St'), 3),\n",
       " (('1 Ave & E 15 St', '6 Ave & Canal St'), 1),\n",
       " (('1 Ave & E 15 St', '8 Ave & W 31 St'), 5),\n",
       " (('1 Ave & E 15 St', '9 Ave & W 14 St'), 3),\n",
       " (('1 Ave & E 15 St', '9 Ave & W 16 St'), 3)]"
      ]
     },
     "execution_count": 5,
     "metadata": {},
     "output_type": "execute_result"
    }
   ],
   "source": [
    "def mapper2(row):\n",
    "    return (row['start_station_name'], row['end_station_name'])\n",
    "\n",
    "def reducer2(counts, pair):\n",
    "    oppositePair = pair[1], pair[0]\n",
    "    \n",
    "    if pair[0]<oppositePair[0]:\n",
    "        counts[pair] = counts.get(pair, 0)+1\n",
    "    else:\n",
    "        counts[oppositePair] = counts.get(oppositePair, 0)+1\n",
    "    \n",
    "    return counts \n",
    "    \n",
    "with open('citibike.csv', 'r') as fi:\n",
    "    reader = csv.DictReader(fi)\n",
    "    output3 = sorted(reduce(reducer2 , map(mapper2, reader) , {}).items())\n",
    "    \n",
    "output3[:10]\n",
    "\n",
    "#The output that should be obtained\n",
    "#[(('1 Ave & E 15 St', '1 Ave & E 15 St'), 5),\n",
    "#  (('1 Ave & E 15 St', '1 Ave & E 44 St'), 6),\n",
    "#  (('1 Ave & E 15 St', '11 Ave & W 27 St'), 1),\n",
    "#  (('1 Ave & E 15 St', '2 Ave & E 31 St'), 9),\n",
    "#  (('1 Ave & E 15 St', '5 Ave & E 29 St'), 2),\n",
    "#  (('1 Ave & E 15 St', '6 Ave & Broome St'), 3),\n",
    "#  (('1 Ave & E 15 St', '6 Ave & Canal St'), 1),\n",
    "#  (('1 Ave & E 15 St', '8 Ave & W 31 St'), 5),\n",
    "#  (('1 Ave & E 15 St', '9 Ave & W 14 St'), 3),\n",
    "#  (('1 Ave & E 15 St', '9 Ave & W 16 St'), 3)] "
   ]
  },
  {
   "cell_type": "markdown",
   "metadata": {},
   "source": [
    "## Task 6\n",
    "\n",
    "Next, we would like to futher process the output from Task 3 to determine the station popularity among all of the station pairs that have 35 or more trips. The popularity of station is calculated by how many times it appears on the list. In other words, we would like to first filter the station pairs to only those that have 35 or more trips. Then, among these pairs, we count how many times each station appears and report back the counts. The output will be tuples, each consisting of the station name and a count. The expected output are included below. As illustrated, *W 41 St & 8 Ave* station is the most \"popular\" with 4 appearances. Please provide your HOF expression below. You can use the output3 from the previous task."
   ]
  },
  {
   "cell_type": "code",
   "execution_count": 7,
   "metadata": {
    "collapsed": false
   },
   "outputs": [
    {
     "data": {
      "text/plain": [
       "{'10 Ave & W 28 St': 1,\n",
       " '11 Ave & W 27 St': 2,\n",
       " '11 Ave & W 41 St': 1,\n",
       " '8 Ave & W 31 St': 3,\n",
       " '8 Ave & W 33 St': 1,\n",
       " '9 Ave & W 22 St': 1,\n",
       " 'Adelphi St & Myrtle Ave': 1,\n",
       " 'DeKalb Ave & Hudson Ave': 1,\n",
       " 'E 10 St & Avenue A': 1,\n",
       " 'E 24 St & Park Ave S': 2,\n",
       " 'E 27 St & 1 Ave': 1,\n",
       " 'E 32 St & Park Ave': 1,\n",
       " 'E 33 St & 2 Ave': 2,\n",
       " 'E 43 St & Vanderbilt Ave': 2,\n",
       " 'E 47 St & Park Ave': 1,\n",
       " 'E 6 St & Avenue B': 1,\n",
       " 'E 7 St & Avenue A': 1,\n",
       " 'Lafayette St & E 8 St': 3,\n",
       " 'Pershing Square North': 1,\n",
       " 'Pershing Square South': 1,\n",
       " 'Vesey Pl & River Terrace': 1,\n",
       " 'W 17 St & 8 Ave': 1,\n",
       " 'W 20 St & 11 Ave': 2,\n",
       " 'W 21 St & 6 Ave': 1,\n",
       " 'W 26 St & 8 Ave': 1,\n",
       " 'W 31 St & 7 Ave': 2,\n",
       " 'W 33 St & 7 Ave': 2,\n",
       " 'W 41 St & 8 Ave': 3,\n",
       " 'West Thames St': 1}"
      ]
     },
     "execution_count": 7,
     "metadata": {},
     "output_type": "execute_result"
    }
   ],
   "source": [
    "def reducer2(counts, pair):\n",
    "    location1 = pair[0][0]\n",
    "    location2 = pair[0][1]\n",
    "    counts[location1] = counts.get(location1, 0)+1\n",
    "    counts[location2] = counts.get(location2, 0)+1\n",
    "    return counts\n",
    "\n",
    "output4 = reduce(reducer2 , filter(lambda x: x[1]>35 , output3),{})\n",
    "\n",
    "output4\n",
    "\n",
    "#The output that should be obtained\n",
    "# [('10 Ave & W 28 St', 1),\n",
    "#  ('11 Ave & W 27 St', 2),\n",
    "#  ('11 Ave & W 41 St', 1),\n",
    "#  ('8 Ave & W 31 St', 3),\n",
    "#  ('8 Ave & W 33 St', 1),\n",
    "#  ('9 Ave & W 22 St', 1),\n",
    "#  ('Adelphi St & Myrtle Ave', 1),\n",
    "#  ('DeKalb Ave & Hudson Ave', 1),\n",
    "#  ('E 10 St & Avenue A', 1),\n",
    "#  ('E 24 St & Park Ave S', 2),\n",
    "#  ('E 27 St & 1 Ave', 1),\n",
    "#  ('E 32 St & Park Ave', 1),\n",
    "#  ('E 33 St & 2 Ave', 2),\n",
    "#  ('E 43 St & Vanderbilt Ave', 2),\n",
    "#  ('E 47 St & Park Ave', 1),\n",
    "#  ('E 6 St & Avenue B', 1),\n",
    "#  ('E 7 St & Avenue A', 1),\n",
    "#  ('Lafayette St & E 8 St', 3),\n",
    "#  ('Pershing Square North', 1),\n",
    "#  ('Pershing Square South', 2),\n",
    "#  ('Vesey Pl & River Terrace', 1),\n",
    "#  ('W 17 St & 8 Ave', 1),\n",
    "#  ('W 20 St & 11 Ave', 2),\n",
    "#  ('W 21 St & 6 Ave', 1),\n",
    "#  ('W 26 St & 8 Ave', 1),\n",
    "#  ('W 31 St & 7 Ave', 2),\n",
    "#  ('W 33 St & 7 Ave', 2),\n",
    "#  ('W 41 St & 8 Ave', 4),\n",
    "#  ('West Thames St', 1)]"
   ]
  },
  {
   "cell_type": "markdown",
   "metadata": {
    "collapsed": true
   },
   "source": [
    "## Task 7\n",
    "\n",
    "In this task, you are asked to compute the station with the most riders started from, per each gender of the *'Subscriber'* user. Meaning, what was the station name with the highest number of bike pickups for female riders, for male riders and for unknown riders.\n",
    "\n",
    "The output will be a list of tuples, each includes a gender label (as indicated below) and another tuple consisting of a station name, and the total number of trips started at that station for that gender. The expected output are included below. Please provide your HOF expression below.\n",
    "\n",
    "The label mapping for the gender column in citibike.csv is: (Zero=**Unknown**; 1=**Male**; 2=**Female**)"
   ]
  },
  {
   "cell_type": "code",
   "execution_count": 43,
   "metadata": {
    "collapsed": false
   },
   "outputs": [
    {
     "data": {
      "text/plain": [
       "[('Female', ('W 21 St & 6 Ave', 107)),\n",
       " ('Male', ('8 Ave & W 31 St', 488)),\n",
       " ('Unknown', ('Catherine St & Monroe St', 1))]"
      ]
     },
     "execution_count": 43,
     "metadata": {},
     "output_type": "execute_result"
    }
   ],
   "source": [
    "def mapper3(row):\n",
    "    if row['usertype']=='Subscriber':\n",
    "        return (row['start_station_name'], row['gender'])\n",
    "    \n",
    "def reducer3(counts, pair):\n",
    "    counts[pair] = counts.get(pair, 0)+1\n",
    "    return counts\n",
    "\n",
    "def reducer4(counts, pair):\n",
    "    gender = pair[0][1]\n",
    "    location = pair[0][0]\n",
    "    values = pair[1]\n",
    "    newPair = (location, values)\n",
    "    \n",
    "    if gender=='0':\n",
    "        if counts['Unknown']==None or values>counts['Unknown'][1]:\n",
    "            counts['Unknown'] = newPair\n",
    "        return counts\n",
    "\n",
    "    if gender==\"1\":\n",
    "        if counts[\"Male\"]==None or values > counts[\"Male\"][1]:\n",
    "            counts[\"Male\"] = newPair\n",
    "        return counts\n",
    "\n",
    "    if gender==\"2\":\n",
    "        if counts[\"Female\"]==None or values > counts[\"Female\"][1]:\n",
    "            counts[\"Female\"] = newPair\n",
    "        return counts\n",
    "\n",
    "\n",
    "with open('citibike.csv', 'r') as fi:\n",
    "    reader = csv.DictReader(fi)\n",
    "    output5_1 = map(mapper3, reader) #grabs the start station and gender from every row in file\n",
    "    output5_2 = filter(lambda x: x!=None, output5_1) #takes all the None out of the list\n",
    "    output5_3 = reduce(reducer3, output5_2, {}) #creates dictionary with { (location, gender) : values}\n",
    "    output5_4 = sorted(output5_3.items()) #Use sorted() to make turn dict into list\n",
    "    output5_5 = reduce(reducer4, output5_4, {'Unknown':None, 'Female':None, 'Male':None})\n",
    "    output5_6 = sorted(output5_5.items()) #last sorted to turn it into list\n",
    "    \n",
    "output5_6\n",
    "\n",
    "#The ouput that should be obtained\n",
    "# [('Female', ('W 21 St & 6 Ave', 107)),\n",
    "#  ('Male', ('8 Ave & W 31 St', 488)),\n",
    "#  ('Unknown', ('Catherine St & Monroe St', 1))]"
   ]
  },
  {
   "cell_type": "code",
   "execution_count": null,
   "metadata": {
    "collapsed": true
   },
   "outputs": [],
   "source": []
  }
 ],
 "metadata": {
  "kernelspec": {
   "display_name": "Python 2",
   "language": "python",
   "name": "python2"
  },
  "language_info": {
   "codemirror_mode": {
    "name": "ipython",
    "version": 2
   },
   "file_extension": ".py",
   "mimetype": "text/x-python",
   "name": "python",
   "nbconvert_exporter": "python",
   "pygments_lexer": "ipython2",
   "version": "2.7.13"
  }
 },
 "nbformat": 4,
 "nbformat_minor": 2
}
