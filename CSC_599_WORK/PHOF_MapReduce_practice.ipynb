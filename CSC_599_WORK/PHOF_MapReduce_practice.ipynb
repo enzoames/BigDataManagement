{
 "cells": [
  {
   "cell_type": "markdown",
   "metadata": {},
   "source": [
    "# Python Higher Order Functions\n",
    "\n",
    "## Practice Problems: MapReduce\n",
    "\n",
    "Practicing the MapReduce programming paradigm. \n",
    "\n",
    "We will complete the tasks using the accompanied *mapreduce* package (as **mapreduce.py**) with one or more MapReduce \"jobs\". Please download the **mapreduce.py** file from Blackboard, and place it in the same folder with your notebook.\n",
    "\n",
    "For each such job (with mr.run()), you are expected to supply a mapper and a reducer as needed. Below are sample usage of the package:\n",
    "\n",
    "```python\n",
    "    # Run on input1 using your mapper1 and reducer1 function\n",
    "    output = list(mr.run(input1, mapper1, reducer1))\n",
    "\n",
    "    # Run on input2 using only your mapper2, no reduce phase\n",
    "    output = list(mr.run(input2, mapper2))\n",
    "    \n",
    "    # Run on input3 using 2 nested MapReduce jobs\n",
    "    output = list(mr.run(mr.run(input3, mapper3, reducer3), mapper4, reducer4))\n",
    "```\n",
    "    \n",
    "Please note that the output of the mr.run() is always a **generator**. You have to cast it to a list if you'd like to view, index or print it out.\n",
    "\n",
    "The tasks below alos include those that are in Homework 3, but we're using MapReduce instead of Python's general Higher Order Functions.\n",
    "\n",
    "You will need **book.txt** and **citibike.csv** file from Blackboard."
   ]
  },
  {
   "cell_type": "code",
   "execution_count": 3,
   "metadata": {
    "collapsed": true
   },
   "outputs": [],
   "source": [
    "import csv\n",
    "import mapreduce as mr"
   ]
  },
  {
   "cell_type": "markdown",
   "metadata": {},
   "source": [
    "## Warm-up\n",
    "\n",
    "Here is another concrete example on \"Word Count\" using the package. Assuming we have a text file named *book.txt*. Our task is to count the frequency of words in this document, and print the top 10. For illustration purposes, we use only the first 1000 lines of the book for counting."
   ]
  },
  {
   "cell_type": "code",
   "execution_count": 14,
   "metadata": {
    "collapsed": false
   },
   "outputs": [
    {
     "name": "stdout",
     "output_type": "stream",
     "text": [
      "[('the', 411), ('of', 337), ('and', 250), ('a', 184), ('or', 162), ('with', 102), ('to', 101), ('in', 90), ('on', 69), ('as', 58)]\n"
     ]
    }
   ],
   "source": [
    "with open('book.txt', 'r') as fi:\n",
    "    lines = [line.strip() for i,line in enumerate(fi) if i<1000] # After this, 'lines' stores a list of 1000 text lines\n",
    "\n",
    "def mapper(line):\n",
    "    for word in line.strip().split(' '): #for loop to split the line by all the blank spaces\n",
    "        if len(word)>0:\n",
    "            yield (word.lower(), 1)\n",
    "    \n",
    "def reducer(k2v2): #k2v2 is the generator obtained from mapper\n",
    "    #print k2v2\n",
    "    word, list_of_ones = k2v2\n",
    "    return (word, sum(list_of_ones))\n",
    "\n",
    "wCounts = list(mr.run(lines, mapper, reducer))\n",
    "sortedCounts = sorted(wCounts, key=lambda x: -x[1])\n",
    "print sortedCounts[:10]"
   ]
  },
  {
   "cell_type": "code",
   "execution_count": null,
   "metadata": {
    "collapsed": true
   },
   "outputs": [],
   "source": []
  }
 ],
 "metadata": {
  "kernelspec": {
   "display_name": "Python 2",
   "language": "python",
   "name": "python2"
  },
  "language_info": {
   "codemirror_mode": {
    "name": "ipython",
    "version": 2
   },
   "file_extension": ".py",
   "mimetype": "text/x-python",
   "name": "python",
   "nbconvert_exporter": "python",
   "pygments_lexer": "ipython2",
   "version": "2.7.13"
  }
 },
 "nbformat": 4,
 "nbformat_minor": 2
}
